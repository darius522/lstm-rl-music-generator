{
 "cells": [
  {
   "cell_type": "code",
   "execution_count": 15,
   "metadata": {
    "scrolled": true
   },
   "outputs": [
    {
     "name": "stderr",
     "output_type": "stream",
     "text": [
      "Using TensorFlow backend.\n"
     ]
    }
   ],
   "source": [
    "import random\n",
    "import numpy as np\n",
    "\n",
    "import tensorflow as tf\n",
    "from keras.models import Sequential\n",
    "from keras.optimizers import Adam\n",
    "from keras.layers import Dense, LSTM"
   ]
  },
  {
   "cell_type": "markdown",
   "metadata": {},
   "source": [
    "### Define an LSTM Network "
   ]
  },
  {
   "cell_type": "code",
   "execution_count": 13,
   "metadata": {},
   "outputs": [],
   "source": [
    "class LSTM_function():\n",
    "    \n",
    "    def __init__(self, inputs=4, outputs=1, steps=10):\n",
    "        self.inputs, self.outputs = inputs, outputs\n",
    "        self.learning_rate = 0.001        \n",
    "\n",
    "        self.model = Sequential(name=\"LSTM_network-in:%d-out:%d-steps:%d\"%(inputs,outputs,steps))\n",
    "        \n",
    "        self.model.add(LSTM(steps, activation='relu', input_shape=(steps, inputs), return_sequences=False, stateful=False))\n",
    "        self.model.add(Dense(16, activation=\"relu\"))\n",
    "        self.model.add(Dense(outputs, activation='linear'))\n",
    "        \n",
    "        self.model.compile(loss=\"mse\", optimizer=Adam(lr=self.learning_rate))\n",
    "        self.model.summary()\n",
    "\n",
    "    def predict(self, s, a):\n",
    "        s_batch = np.reshape(s, [1]+list(s.shape))\n",
    "        return self.model.predict(s_batch)[0][a]\n",
    "\n",
    "    def update(self, s, a, y):\n",
    "        s_batch = np.reshape(s, [1]+list(s.shape))   # calling predict was causing\n",
    "        q_values = self.model.predict(s_batch)[0]       # bad inheritance behavior\n",
    "        q_values[a] = y\n",
    "        q_values_batch = np.reshape(q_values, [1, self.outputs])\n",
    "        self.model.fit(s_batch, q_values_batch, verbose=0)\n",
    "\n",
    "    def update_batch(self, states, targets):\n",
    "        self.model.train_on_batch(states, targets)"
   ]
  },
  {
   "cell_type": "markdown",
   "metadata": {},
   "source": [
    "### Train an LSTM Network to predict the sin function\n",
    "$f([sin(x_{t-4}+dx),...,sin(x_{t-1}+dx)])=sin(x_t)$"
   ]
  },
  {
   "cell_type": "code",
   "execution_count": 14,
   "metadata": {
    "scrolled": true
   },
   "outputs": [
    {
     "name": "stdout",
     "output_type": "stream",
     "text": [
      "WARNING:tensorflow:From /home/miguel/.local/lib/python3.6/site-packages/tensorflow/python/ops/init_ops.py:1251: calling VarianceScaling.__init__ (from tensorflow.python.ops.init_ops) with dtype is deprecated and will be removed in a future version.\n",
      "Instructions for updating:\n",
      "Call initializer instance with the dtype argument instead of passing it to the constructor\n",
      "Model: \"NN-in:10-out:1\"\n",
      "_________________________________________________________________\n",
      "Layer (type)                 Output Shape              Param #   \n",
      "=================================================================\n",
      "dense_1 (Dense)              (None, 8)                 88        \n",
      "_________________________________________________________________\n",
      "dense_2 (Dense)              (None, 16)                144       \n",
      "_________________________________________________________________\n",
      "dense_3 (Dense)              (None, 1)                 17        \n",
      "=================================================================\n",
      "Total params: 249\n",
      "Trainable params: 249\n",
      "Non-trainable params: 0\n",
      "_________________________________________________________________\n",
      "Model: \"LSTM_network-in:1-out:1-steps:10\"\n",
      "_________________________________________________________________\n",
      "Layer (type)                 Output Shape              Param #   \n",
      "=================================================================\n",
      "lstm (LSTM)                  (None, 10)                480       \n",
      "_________________________________________________________________\n",
      "dense_4 (Dense)              (None, 16)                176       \n",
      "_________________________________________________________________\n",
      "dense_5 (Dense)              (None, 1)                 17        \n",
      "=================================================================\n",
      "Total params: 673\n",
      "Trainable params: 673\n",
      "Non-trainable params: 0\n",
      "_________________________________________________________________\n",
      "WARNING:tensorflow:From /home/miguel/.local/lib/python3.6/site-packages/tensorflow/python/ops/math_grad.py:1250: add_dispatch_support.<locals>.wrapper (from tensorflow.python.ops.array_ops) is deprecated and will be removed in a future version.\n",
      "Instructions for updating:\n",
      "Use tf.where in 2.0, which has the same broadcast rule as np.where\n",
      "MSE errors (NN,LSTM) = 0.5901646544926265 1.1933168076515874\n"
     ]
    }
   ],
   "source": [
    "def gen_input(nsteps):\n",
    "    x_ini = np.random.rand()\n",
    "    x_step = np.random.rand()\n",
    "    sin_seq = np.array([ np.array([np.sin(x_ini+i*x_step)]) for i in range(nsteps+1)]) \n",
    "    y = sin_seq[-1][0]\n",
    "    s = sin_seq[:-1]\n",
    "    return s,y\n",
    "\n",
    "nsteps = 10\n",
    "f = NN_function(inputs=nsteps, outputs=1)\n",
    "f_lstm = LSTM_function(inputs=1, outputs=1, steps=nsteps)\n",
    "\n",
    "n = 10000\n",
    "for _ in range(n):            # train the network with input-output pairs\n",
    "    s,y = gen_input(nsteps)\n",
    "    f.update(s,0,y)\n",
    "    f_lstm.update(s,0,y)\n",
    "\n",
    "error, error_lstm = 0, 0\n",
    "for _ in range(int(n/10)):         # test the network with mean squared error (MSE)\n",
    "    s,y = gen_input(nsteps)    \n",
    "    error += np.power(f.predict(s,0)-y,2)  # MSE\n",
    "    error_lstm += np.power(f_lstm.predict(s,0)-y,2)  # MSE\n",
    "    \n",
    "print(\"MSE errors (NN,LSTM) =\", error, error_lstm)"
   ]
  },
  {
   "cell_type": "code",
   "execution_count": null,
   "metadata": {},
   "outputs": [],
   "source": []
  }
 ],
 "metadata": {
  "kernelspec": {
   "display_name": "Python 3",
   "language": "python",
   "name": "python3"
  },
  "language_info": {
   "codemirror_mode": {
    "name": "ipython",
    "version": 3
   },
   "file_extension": ".py",
   "mimetype": "text/x-python",
   "name": "python",
   "nbconvert_exporter": "python",
   "pygments_lexer": "ipython3",
   "version": "3.6.9"
  }
 },
 "nbformat": 4,
 "nbformat_minor": 2
}
